{
 "cells": [
  {
   "cell_type": "code",
   "execution_count": 1,
   "metadata": {},
   "outputs": [
    {
     "name": "stderr",
     "output_type": "stream",
     "text": [
      "C:\\Users\\aketu\\Anaconda3\\lib\\site-packages\\sklearn\\externals\\six.py:31: DeprecationWarning: The module is deprecated in version 0.21 and will be removed in version 0.23 since we've dropped support for Python 2.7. Please rely on the official version of six (https://pypi.org/project/six/).\n",
      "  \"(https://pypi.org/project/six/).\", DeprecationWarning)\n"
     ]
    }
   ],
   "source": [
    "#SVM\n",
    "import numpy as np\n",
    "import pandas as pd\n",
    "from sklearn.model_selection import train_test_split\n",
    "from sklearn.model_selection import cross_val_score\n",
    "from imblearn.over_sampling import SMOTE\n",
    "from sklearn.metrics import classification_report, accuracy_score"
   ]
  },
  {
   "cell_type": "code",
   "execution_count": 2,
   "metadata": {},
   "outputs": [
    {
     "name": "stdout",
     "output_type": "stream",
     "text": [
      "<class 'pandas.core.frame.DataFrame'>\n",
      "RangeIndex: 194 entries, 0 to 193\n",
      "Data columns (total 6 columns):\n",
      "Unnamed: 0                     194 non-null int64\n",
      "sentence                       194 non-null object\n",
      "support_keyword                194 non-null int64\n",
      "after_conclusion_keyword       194 non-null int64\n",
      "previous_conclusion_keyword    194 non-null int64\n",
      "support_sentence               194 non-null int64\n",
      "dtypes: int64(5), object(1)\n",
      "memory usage: 9.2+ KB\n",
      "None\n"
     ]
    }
   ],
   "source": [
    "df=pd.read_csv(\"pandas_label.csv\")\n",
    "print(df.info())"
   ]
  },
  {
   "cell_type": "code",
   "execution_count": 3,
   "metadata": {},
   "outputs": [
    {
     "name": "stdout",
     "output_type": "stream",
     "text": [
      "0    138\n",
      "1     56\n",
      "Name: support_sentence, dtype: int64\n"
     ]
    }
   ],
   "source": [
    "print(df[\"support_sentence\"].value_counts())"
   ]
  },
  {
   "cell_type": "code",
   "execution_count": 4,
   "metadata": {},
   "outputs": [],
   "source": [
    "# target/input split\n",
    "y = df[\"support_sentence\"]\n",
    "X = df.drop([\"Unnamed: 0\", \"sentence\", \"support_sentence\"], axis=1)"
   ]
  },
  {
   "cell_type": "code",
   "execution_count": 5,
   "metadata": {},
   "outputs": [
    {
     "name": "stderr",
     "output_type": "stream",
     "text": [
      "C:\\Users\\aketu\\Anaconda3\\lib\\site-packages\\ipykernel_launcher.py:5: FutureWarning: Method .as_matrix will be removed in a future version. Use .values instead.\n",
      "  \"\"\"\n"
     ]
    }
   ],
   "source": [
    "# setting random state\n",
    "rs = 10\n",
    "\n",
    "# train/test split\n",
    "X_mat = X.as_matrix()\n",
    "x_train3, x_test3, y_train3, y_test3 = train_test_split(X_mat, y, test_size=0.2, stratify=y, random_state=rs)\n",
    "\n",
    "smt=SMOTE(random_state=20);\n",
    "X_train3, Y_train3=smt.fit_sample(x_train3, y_train3);"
   ]
  },
  {
   "cell_type": "code",
   "execution_count": 6,
   "metadata": {},
   "outputs": [
    {
     "name": "stdout",
     "output_type": "stream",
     "text": [
      "1    110\n",
      "0    110\n",
      "dtype: int64\n",
      "0    110\n",
      "1     45\n",
      "Name: support_sentence, dtype: int64\n",
      "0    28\n",
      "1    11\n",
      "Name: support_sentence, dtype: int64\n"
     ]
    }
   ],
   "source": [
    "print (pd.Series(Y_train3).value_counts())\n",
    "print (pd.Series(y_train3).value_counts())\n",
    "print (pd.Series(y_test3).value_counts())"
   ]
  },
  {
   "cell_type": "code",
   "execution_count": 7,
   "metadata": {},
   "outputs": [
    {
     "name": "stdout",
     "output_type": "stream",
     "text": [
      "Before scaling\n",
      "-------------\n",
      "Variable #0: min 0, max 1, mean 0.25 and std dev 0.44\n",
      "Variable #1: min 0, max 2, mean 0.09 and std dev 0.30\n",
      "Variable #2: min 0, max 2, mean 0.09 and std dev 0.30\n",
      "After scaling\n",
      "-------------\n",
      "Variable #0: min -0.5843487097907777, max 1.711306935815849, mean 0.00 and std dev 1.00\n",
      "Variable #1: min -0.3001501125938318, max 6.303152364470468, mean -0.00 and std dev 1.00\n",
      "Variable #2: min -0.30015011259383223, max 6.303152364470477, mean -0.00 and std dev 1.00\n"
     ]
    }
   ],
   "source": [
    "from sklearn import svm\n",
    "from sklearn.preprocessing import StandardScaler\n",
    "\n",
    "scaler = StandardScaler()\n",
    "print(\"Before scaling\\n-------------\")\n",
    "for i in range(3):\n",
    "    col = X_train3[:,i]\n",
    "    print(\"Variable #{}: min {}, max {}, mean {:.2f} and std dev {:.2f}\".\n",
    "          format(i, min(col), max(col), np.mean(col), np.std(col)))\n",
    "\n",
    "X_train3 = scaler.fit_transform(X_train3, Y_train3)\n",
    "\n",
    "print(\"After scaling\\n-------------\")\n",
    "for i in range(3):\n",
    "    col = X_train3[:,i]\n",
    "    print(\"Variable #{}: min {}, max {}, mean {:.2f} and std dev {:.2f}\".\n",
    "          format(i, min(col), max(col), np.mean(col), np.std(col)))\n",
    "\n",
    "x_test3 = scaler.transform(x_test3)"
   ]
  },
  {
   "cell_type": "code",
   "execution_count": 20,
   "metadata": {},
   "outputs": [
    {
     "name": "stdout",
     "output_type": "stream",
     "text": [
      "The best parameters are {'C': 0.01, 'gamma': 5} with a score of 0.79\n"
     ]
    }
   ],
   "source": [
    "from sklearn.svm import SVC\n",
    "from sklearn.model_selection import GridSearchCV\n",
    "\n",
    "grid = GridSearchCV(SVC(), param_grid={\"C\":[0.01, 0.1, 1, 10, 20, 30], \n",
    "                                       \"gamma\": [5, 10, 15, 20, 30, 1, 0.1, 0.01]}, cv=10)\n",
    "grid.fit(X_train3, Y_train3)\n",
    "print(\"The best parameters are %s with a score of %0.2f\"\n",
    "      % (grid.best_params_, grid.best_score_))"
   ]
  },
  {
   "cell_type": "code",
   "execution_count": 18,
   "metadata": {},
   "outputs": [
    {
     "data": {
      "text/plain": [
       "SVC(C=0.01, cache_size=200, class_weight=None, coef0=0.0,\n",
       "    decision_function_shape='ovr', degree=3, gamma=5, kernel='rbf', max_iter=-1,\n",
       "    probability=False, random_state=None, shrinking=True, tol=0.001,\n",
       "    verbose=False)"
      ]
     },
     "execution_count": 18,
     "metadata": {},
     "output_type": "execute_result"
    }
   ],
   "source": [
    "clf = svm.SVC(C=0.01, gamma=5)\n",
    "#cv_average_score=cross_val_score(model, X_train, Y_train, cv=10)\n",
    "clf.fit(X_train3, Y_train3) \n",
    "#kernel=\"linear\""
   ]
  },
  {
   "cell_type": "code",
   "execution_count": 19,
   "metadata": {},
   "outputs": [
    {
     "name": "stdout",
     "output_type": "stream",
     "text": [
      "Train accuracy: 0.7863636363636364\n",
      "Test accuracy: 0.8205128205128205\n",
      "              precision    recall  f1-score   support\n",
      "\n",
      "           0       0.89      0.86      0.87        28\n",
      "           1       0.67      0.73      0.70        11\n",
      "\n",
      "    accuracy                           0.82        39\n",
      "   macro avg       0.78      0.79      0.78        39\n",
      "weighted avg       0.83      0.82      0.82        39\n",
      "\n"
     ]
    }
   ],
   "source": [
    "print(\"Train accuracy:\", clf.score(X_train3, Y_train3))\n",
    "print(\"Test accuracy:\", clf.score(x_test3, y_test3))\n",
    "\n",
    "y_pred3 = clf.predict(x_test3)\n",
    "print(classification_report(y_test3, y_pred3))"
   ]
  },
  {
   "cell_type": "code",
   "execution_count": 14,
   "metadata": {},
   "outputs": [
    {
     "name": "stdout",
     "output_type": "stream",
     "text": [
      "[1 0 1 0 0 0 0 0 1 1 1 1 1 1 1 0 1 0 0 0 0 0 0 0 0 0 0 0 0 0 0 0 0 0 0 1 0\n",
      " 0 0]\n",
      "[1 0 1 0 0 1 0 0 1 0 0 1 0 1 1 0 1 0 0 0 0 0 0 0 1 0 0 0 0 0 0 0 0 0 0 1 1\n",
      " 1 0]\n"
     ]
    }
   ],
   "source": [
    "print(y_test3.values)\n",
    "print(y_pred3)"
   ]
  },
  {
   "cell_type": "code",
   "execution_count": 15,
   "metadata": {},
   "outputs": [],
   "source": [
    "#print(clf.coef_)"
   ]
  },
  {
   "cell_type": "code",
   "execution_count": null,
   "metadata": {},
   "outputs": [],
   "source": []
  }
 ],
 "metadata": {
  "kernelspec": {
   "display_name": "Python 3",
   "language": "python",
   "name": "python3"
  },
  "language_info": {
   "codemirror_mode": {
    "name": "ipython",
    "version": 3
   },
   "file_extension": ".py",
   "mimetype": "text/x-python",
   "name": "python",
   "nbconvert_exporter": "python",
   "pygments_lexer": "ipython3",
   "version": "3.6.5"
  }
 },
 "nbformat": 4,
 "nbformat_minor": 2
}
